{
 "cells": [
  {
   "cell_type": "markdown",
   "metadata": {},
   "source": [
    "# Exercício Proposto 4\n",
    "\n",
    "**Disciplina:** Projeto e Análise de Algoritmos<br>\n",
    "**Aluno:** Diego Santos Seabra<br>\n",
    "**Matrícula:** 0040251\n",
    "\n",
    "Baseado no que foi discutido do problema de Subsequência comum mais longa, implemente em uma linguagem de programação de sua preferência a solução para o respectivo problema utilizando programação dinâmica. Teste a solução implementada com programação Dinâmica com a sua respectiva solução recursiva.\n",
    "\n",
    "Abaixo, as duas sequências de entrada para os testes.\n",
    "\n",
    "bbhbigkcgbdehgejggaajibgkbekkjjcblghehfeeclehcaghbbblfebkggfbifcjdbfcfgjdllkfejcddljfecjkikcakaicfliidkfdkabkldhcchlbgkbacfhhlcehjkgibchjjgieeclhajhjcaclbdhcedkjkifeedefkbbicghhkecdbfefjakjiejickakdieggahhbikfafcjjhcgldieiijlhhhjlcgjfehlkljccibkbibdbbjdhlichjgilaljljhgaeijijgfcijeikkcjkegekbbhgglihigabgdjaeedjfelgbflablddjdeejlaghjfeahhakcjbceaaeeijbieibbfkjihbdcibckfhfkgaadgjkhbfcchbfjhfjgibeedkhaklckbackafhkfbiaijfcfelgfcgfbbialagjddfeeahjfibddfbediiheabelbfkjiihdibceghjhklkijflghdckkcalgflgjdekhjlfkjaglcgcffgjlghigidbjbdhabedbkaijhhledghaglbagfakgaajabijckcbeidlikjighfhhffigfddchicejbiaaahkalaekjihibheigjecbahekjdbgibfadfdeilbfkjkejfackfjglcdjbbcgcdfdkbgjcbbiajbiigfidafjcjljkhgdgajedjfihhalfdagkedfjgcacggdefbdidhdcklalidjkghgfflillcghdhlilgeaiebeaiabdllkdleddhcjklkakgibigebhejigbgdkcefbaaajebiebbcgegdbbaibligjgedagidfjfcdgicfbijhlbcbcffjjfkacdggcejhljdjfikjcjfcacdjjfaglefighicbhcdjkelgijhbbkblfbjlfeclgcjbiegjgkeicbcdbadfelkaaifdilaccfhecifjhbkdhcijgaldcgidcbikahbifljgfggebadgcklbljfddfdaadliiedcggaefldeggfdhgcjffbeceliagjehalkkfhbggiaclfikcfkhcelffebfkhcdjggablklflejacblkbjkdgdlchaaifigjhieeacggciaejhckiejedihakcilkhcckccjkgbchlhlgjdbejekgakllfkhdbjahgeiibfjidjjeegehceeeabdjlbfe\n",
    "hldccchebkjlkgbkiigjcejiafalgijaigkhaifjabeedcgjbbkeagbjfejlfehgfijjggkifddikccjbkkhglkecfhbegcegdlhfdhadfcagdjjheiigcajcejabalijfijgbhkigbgklakbcjahekcdjfbjgfkhblidikacddbdehkeecljbgfccllhejkbdeeiahailjkeljhflaafbcbhgjeejhebeeeibhajkfagjiaklhididkkkfbidleelgeadklljfaiakjakfhgffeeicfgjjdhakkifegbhfkhfecilaicclhhifjlceeiiiagbihdfhbgekdelhaijhaeejbkabkjcjljgleigfhcfhekichealjehkadbeaihachdjdgggfchfkikkifbiejgedigfdlgjkabccaghklegaalkeibfiihlcchaiaaahbicigbgejclkicgdifibkkebeailjacbkfafaiflddlacakikdlhjfghdfkfecklkcbbgcifbjecfdlifehhdlcagggfdhfbjejjilbaegeeedigciellbgkchhhfkffakaicagiiialjcbdagjjebilchlhfdibhcbfeegdaiigdlllaeiaidadaiebjhbjflggdicdbkdibhecgblejgeieihkegfddibgjleackhhbihhjehbbkgelbiigkljihgchbceae\n",
    "\n",
    "Tamanho: 399"
   ]
  },
  {
   "cell_type": "code",
   "execution_count": 82,
   "metadata": {},
   "outputs": [],
   "source": [
    "# Importações\n",
    "import numpy as np\n",
    "\n",
    "# Definição do Algoritmo\n",
    "def lcs_dinamico(A, B, imprimeMatriz):\n",
    "    # Armazena o tamanho das sequências A e B nas variáveis m e n, respectivamente\n",
    "    m = len(A)\n",
    "    n = len(B)\n",
    "    \n",
    "    # Memoização - Declarando a matriz \n",
    "    # (tabela cujas entradas são calculadas em ordem de linha principal)\n",
    "    mat = [[0] * (n+1) for i in range(m+1)]\n",
    "    \n",
    "    # Percorre a matriz\n",
    "    for i in range(m+1):\n",
    "        for j in range(n+1):\n",
    "            # Aplica as regras da programação dinâmica\n",
    "            if i == 0 or j == 0: # \"Correção\" dos índices\n",
    "                mat[i][j] = 0\n",
    "            elif A[i-1] == B[j-1]: \n",
    "                mat[i][j] = 1 + mat[i-1][j-1]\n",
    "            else: \n",
    "                mat[i][j] = max(mat[i-1][j], mat[i][j-1]) \n",
    "                \n",
    "    # Imprime a matriz\n",
    "    if imprimeMatriz:\n",
    "        print(np.array(mat))\n",
    "                \n",
    "    # Retorna a posição da matriz que contém o comprimento máximo\n",
    "    # Diferentemente do pseudocódigo, aqui é m e n já que m e n são, respectivamente,\n",
    "    #  o tamanho de A e B\n",
    "    return mat[m][n]"
   ]
  },
  {
   "cell_type": "code",
   "execution_count": 90,
   "metadata": {},
   "outputs": [
    {
     "name": "stdout",
     "output_type": "stream",
     "text": [
      "[[0 0 0 0 0]\n",
      " [0 0 1 1 1]\n",
      " [0 0 1 1 2]]\n"
     ]
    },
    {
     "data": {
      "text/plain": [
       "2"
      ]
     },
     "execution_count": 90,
     "metadata": {},
     "output_type": "execute_result"
    }
   ],
   "source": [
    "# Teste 1 - Slides(bd/abcd)\n",
    "seq1 = \"bd\"\n",
    "seq2 = \"abcd\"\n",
    "\n",
    "lcs_dinamico(seq1, seq2, True)"
   ]
  },
  {
   "cell_type": "code",
   "execution_count": 91,
   "metadata": {},
   "outputs": [
    {
     "name": "stdout",
     "output_type": "stream",
     "text": [
      "[[0 0 0 0 0 0 0 0]\n",
      " [0 0 0 0 0 0 1 1]\n",
      " [0 0 0 0 0 0 1 2]\n",
      " [0 0 1 1 1 1 1 2]\n",
      " [0 0 1 2 2 2 2 2]\n",
      " [0 0 1 2 2 3 3 3]]\n"
     ]
    },
    {
     "data": {
      "text/plain": [
       "3"
      ]
     },
     "execution_count": 91,
     "metadata": {},
     "output_type": "execute_result"
    }
   ],
   "source": [
    "# Teste 2 - Slides(stone/longest)\n",
    "seq1 = \"stone\"\n",
    "seq2 = \"longest\"\n",
    "\n",
    "lcs_dinamico(seq1, seq2, True)"
   ]
  },
  {
   "cell_type": "code",
   "execution_count": 93,
   "metadata": {},
   "outputs": [
    {
     "name": "stdout",
     "output_type": "stream",
     "text": [
      "[[0 0 0 0 0 0 0 0]\n",
      " [0 0 0 0 0 1 1 1]\n",
      " [0 1 1 1 1 1 1 1]\n",
      " [0 1 1 1 1 1 1 1]\n",
      " [0 1 1 2 2 2 2 2]\n",
      " [0 1 1 2 2 3 3 3]\n",
      " [0 1 1 2 2 3 3 4]]\n"
     ]
    },
    {
     "data": {
      "text/plain": [
       "4"
      ]
     },
     "execution_count": 93,
     "metadata": {},
     "output_type": "execute_result"
    }
   ],
   "source": [
    "# Teste 3 - Bioinformática(AGGTAB/GXTXAYB)\n",
    "seq1 = \"AGGTAB\"\n",
    "seq2 = \"GXTXAYB\"\n",
    "\n",
    "lcs_dinamico(seq1, seq2, True)"
   ]
  },
  {
   "cell_type": "code",
   "execution_count": 94,
   "metadata": {},
   "outputs": [
    {
     "name": "stdout",
     "output_type": "stream",
     "text": [
      "[[0 0 0 0 0 0 0 0 0]\n",
      " [0 0 0 0 0 1 1 1 1]\n",
      " [0 1 1 1 1 1 1 1 1]\n",
      " [0 1 2 2 2 2 2 2 2]\n",
      " [0 1 2 2 2 3 3 3 3]\n",
      " [0 1 2 2 3 3 3 3 4]\n",
      " [0 1 2 3 3 3 3 3 4]\n",
      " [0 1 2 3 4 4 4 4 4]\n",
      " [0 1 2 3 4 4 5 5 5]]\n"
     ]
    },
    {
     "data": {
      "text/plain": [
       "5"
      ]
     },
     "execution_count": 94,
     "metadata": {},
     "output_type": "execute_result"
    }
   ],
   "source": [
    "# Teste 4 - Bioinformática(TAGTCACG/AGACTGTC)\n",
    "seq1 = \"TAGTCACG\"\n",
    "seq2 = \"AGACTGTC\"\n",
    "\n",
    "lcs_dinamico(seq1, seq2, True)"
   ]
  },
  {
   "cell_type": "code",
   "execution_count": 95,
   "metadata": {},
   "outputs": [
    {
     "name": "stdout",
     "output_type": "stream",
     "text": [
      "[[  0   0   0 ...   0   0   0]\n",
      " [  0   0   0 ...   1   1   1]\n",
      " [  0   0   0 ...   2   2   2]\n",
      " ...\n",
      " [  0   1   2 ... 397 397 397]\n",
      " [  0   1   2 ... 398 398 398]\n",
      " [  0   1   2 ... 398 398 399]]\n"
     ]
    },
    {
     "data": {
      "text/plain": [
       "399"
      ]
     },
     "execution_count": 95,
     "metadata": {},
     "output_type": "execute_result"
    }
   ],
   "source": [
    "# Resolução do Exercício Proposto 4\n",
    "seq1 = \"hldccchebkjlkgbkiigjcejiafalgijaigkhaifjabeedcgjbbkeagbjfejlfehgfijjggkifddikccjbkkhglkecfhbegcegdlhfdhadfcagdjjheiigcajcejabalijfijgbhkigbgklakbcjahekcdjfbjgfkhblidikacddbdehkeecljbgfccllhejkbdeeiahailjkeljhflaafbcbhgjeejhebeeeibhajkfagjiaklhididkkkfbidleelgeadklljfaiakjakfhgffeeicfgjjdhakkifegbhfkhfecilaicclhhifjlceeiiiagbihdfhbgekdelhaijhaeejbkabkjcjljgleigfhcfhekichealjehkadbeaihachdjdgggfchfkikkifbiejgedigfdlgjkabccaghklegaalkeibfiihlcchaiaaahbicigbgejclkicgdifibkkebeailjacbkfafaiflddlacakikdlhjfghdfkfecklkcbbgcifbjecfdlifehhdlcagggfdhfbjejjilbaegeeedigciellbgkchhhfkffakaicagiiialjcbdagjjebilchlhfdibhcbfeegdaiigdlllaeiaidadaiebjhbjflggdicdbkdibhecgblejgeieihkegfddibgjleackhhbihhjehbbkgelbiigkljihgchbceae\"\n",
    "seq2 = \"bbhbigkcgbdehgejggaajibgkbekkjjcblghehfeeclehcaghbbblfebkggfbifcjdbfcfgjdllkfejcddljfecjkikcakaicfliidkfdkabkldhcchlbgkbacfhhlcehjkgibchjjgieeclhajhjcaclbdhcedkjkifeedefkbbicghhkecdbfefjakjiejickakdieggahhbikfafcjjhcgldieiijlhhhjlcgjfehlkljccibkbibdbbjdhlichjgilaljljhgaeijijgfcijeikkcjkegekbbhgglihigabgdjaeedjfelgbflablddjdeejlaghjfeahhakcjbceaaeeijbieibbfkjihbdcibckfhfkgaadgjkhbfcchbfjhfjgibeedkhaklckbackafhkfbiaijfcfelgfcgfbbialagjddfeeahjfibddfbediiheabelbfkjiihdibceghjhklkijflghdckkcalgflgjdekhjlfkjaglcgcffgjlghigidbjbdhabedbkaijhhledghaglbagfakgaajabijckcbeidlikjighfhhffigfddchicejbiaaahkalaekjihibheigjecbahekjdbgibfadfdeilbfkjkejfackfjglcdjbbcgcdfdkbgjcbbiajbiigfidafjcjljkhgdgajedjfihhalfdagkedfjgcacggdefbdidhdcklalidjkghgfflillcghdhlilgeaiebeaiabdllkdleddhcjklkakgibigebhejigbgdkcefbaaajebiebbcgegdbbaibligjgedagidfjfcdgicfbijhlbcbcffjjfkacdggcejhljdjfikjcjfcacdjjfaglefighicbhcdjkelgijhbbkblfbjlfeclgcjbiegjgkeicbcdbadfelkaaifdilaccfhecifjhbkdhcijgaldcgidcbikahbifljgfggebadgcklbljfddfdaadliiedcggaefldeggfdhgcjffbeceliagjehalkkfhbggiaclfikcfkhcelffebfkhcdjggablklflejacblkbjkdgdlchaaifigjhieeacggciaejhckiejedihakcilkhcckccjkgbchlhlgjdbejekgakllfkhdbjahgeiibfjidjjeegehceeeabdjlbfe\"\n",
    "\n",
    "lcs_dinamico(seq1, seq2, True)"
   ]
  }
 ],
 "metadata": {
  "kernelspec": {
   "display_name": "Python 3",
   "language": "python",
   "name": "python3"
  },
  "language_info": {
   "codemirror_mode": {
    "name": "ipython",
    "version": 3
   },
   "file_extension": ".py",
   "mimetype": "text/x-python",
   "name": "python",
   "nbconvert_exporter": "python",
   "pygments_lexer": "ipython3",
   "version": "3.8.6"
  }
 },
 "nbformat": 4,
 "nbformat_minor": 4
}
